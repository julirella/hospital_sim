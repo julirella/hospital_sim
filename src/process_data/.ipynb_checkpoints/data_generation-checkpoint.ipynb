{
 "cells": [
  {
   "cell_type": "code",
   "execution_count": 1,
   "id": "8c6555ce-b830-466e-afd9-d73ee528e3dc",
   "metadata": {},
   "outputs": [],
   "source": [
    "from src.data_generator import DataGenerator"
   ]
  },
  {
   "cell_type": "code",
   "execution_count": 19,
   "id": "1f507553-4374-47a0-8d68-85b77d4a7802",
   "metadata": {},
   "outputs": [],
   "source": [
    "graph_path = \"../../input/layouts/expLayout.json\"\n",
    "people_path = \"../../input/people/expPeople1.json\""
   ]
  },
  {
   "cell_type": "code",
   "execution_count": 20,
   "id": "485182be-e01f-4bd1-a198-a3d169d9a393",
   "metadata": {},
   "outputs": [],
   "source": [
    "gen = DataGenerator(graph_path, people_path)"
   ]
  },
  {
   "cell_type": "code",
   "execution_count": 21,
   "id": "23a0f175-543b-429f-8da7-2273fc9c3035",
   "metadata": {},
   "outputs": [
    {
     "data": {
      "text/plain": [
       "17.0"
      ]
     },
     "execution_count": 21,
     "metadata": {},
     "output_type": "execute_result"
    }
   ],
   "source": [
    "gen.max_graph_dst()"
   ]
  },
  {
   "cell_type": "code",
   "execution_count": 6,
   "id": "d921a901-b0b6-4afd-9821-6ca8bae2d5b1",
   "metadata": {},
   "outputs": [
    {
     "name": "stdout",
     "output_type": "stream",
     "text": [
      "/home/julia/school/bakalarka/hospital_sim/src/process_data\n"
     ]
    }
   ],
   "source": [
    "! pwd"
   ]
  }
 ],
 "metadata": {
  "kernelspec": {
   "display_name": "Python 3 (ipykernel)",
   "language": "python",
   "name": "python3"
  },
  "language_info": {
   "codemirror_mode": {
    "name": "ipython",
    "version": 3
   },
   "file_extension": ".py",
   "mimetype": "text/x-python",
   "name": "python",
   "nbconvert_exporter": "python",
   "pygments_lexer": "ipython3",
   "version": "3.12.3"
  }
 },
 "nbformat": 4,
 "nbformat_minor": 5
}
