{
 "cells": [
  {
   "cell_type": "code",
   "execution_count": 1,
   "id": "d9106bb7-1ab1-45ca-b27b-583a08296670",
   "metadata": {},
   "outputs": [],
   "source": [
    "import pandas as pd\n",
    "from math import sqrt\n",
    "import numpy as np\n",
    "import importlib"
   ]
  },
  {
   "cell_type": "code",
   "execution_count": 2,
   "id": "89dd6e1e",
   "metadata": {},
   "outputs": [
    {
     "name": "stdout",
     "output_type": "stream",
     "text": [
      "/home/julia/school/bakalarka/hospital_sim\n",
      "['/usr/lib/python312.zip', '/usr/lib/python3.12', '/usr/lib/python3.12/lib-dynload', '', '/home/julia/school/bakalarka/simVenv/lib/python3.12/site-packages', '/home/julia/school/bakalarka/hospital_sim']\n",
      "/home/julia/school/bakalarka/hospital_sim\n"
     ]
    }
   ],
   "source": [
    "import sys\n",
    "import os\n",
    "\n",
    "# Get the absolute path to the 'src' directory\n",
    "sys.path.append(os.path.abspath(\"../..\"))\n",
    "print(os.path.abspath(\"../..\"))\n",
    "project_root = os.path.abspath(\"../..\")\n",
    "print(sys.path)\n",
    "print(project_root)"
   ]
  },
  {
   "cell_type": "code",
   "execution_count": 2,
   "id": "acb04ba5-3883-46f5-9be1-2181e895e41e",
   "metadata": {},
   "outputs": [],
   "source": [
    "nurse_log_df = pd.read_csv(\"../../output/nurseLog.csv\")"
   ]
  },
  {
   "cell_type": "code",
   "execution_count": null,
   "id": "ce94a307-627f-497e-8d22-863be830caf7",
   "metadata": {},
   "outputs": [],
   "source": [
    "display(nurse_log_df)"
   ]
  },
  {
   "cell_type": "code",
   "execution_count": 17,
   "id": "194ac6fd",
   "metadata": {},
   "outputs": [],
   "source": [
    "# event_log_df = pd.read_csv(\"../../output/eventLog.csv\")\n",
    "event_log_df = pd.read_csv(project_root + \"/output/eventLog.csv\")"
   ]
  },
  {
   "cell_type": "code",
   "execution_count": 18,
   "id": "f130664d",
   "metadata": {},
   "outputs": [
    {
     "data": {
      "text/html": [
       "<div>\n",
       "<style scoped>\n",
       "    .dataframe tbody tr th:only-of-type {\n",
       "        vertical-align: middle;\n",
       "    }\n",
       "\n",
       "    .dataframe tbody tr th {\n",
       "        vertical-align: top;\n",
       "    }\n",
       "\n",
       "    .dataframe thead th {\n",
       "        text-align: right;\n",
       "    }\n",
       "</style>\n",
       "<table border=\"1\" class=\"dataframe\">\n",
       "  <thead>\n",
       "    <tr style=\"text-align: right;\">\n",
       "      <th></th>\n",
       "      <th>time</th>\n",
       "      <th>event</th>\n",
       "      <th>action</th>\n",
       "      <th>patient</th>\n",
       "      <th>type</th>\n",
       "      <th>request_level</th>\n",
       "    </tr>\n",
       "  </thead>\n",
       "  <tbody>\n",
       "    <tr>\n",
       "      <th>0</th>\n",
       "      <td>6.0</td>\n",
       "      <td>1</td>\n",
       "      <td>planned start</td>\n",
       "      <td>0.0</td>\n",
       "      <td>request</td>\n",
       "      <td>3.0</td>\n",
       "    </tr>\n",
       "    <tr>\n",
       "      <th>1</th>\n",
       "      <td>6.0</td>\n",
       "      <td>1</td>\n",
       "      <td>actual start</td>\n",
       "      <td>0.0</td>\n",
       "      <td>request</td>\n",
       "      <td>3.0</td>\n",
       "    </tr>\n",
       "    <tr>\n",
       "      <th>2</th>\n",
       "      <td>35.0</td>\n",
       "      <td>1</td>\n",
       "      <td>end</td>\n",
       "      <td>0.0</td>\n",
       "      <td>request</td>\n",
       "      <td>3.0</td>\n",
       "    </tr>\n",
       "    <tr>\n",
       "      <th>3</th>\n",
       "      <td>0.0</td>\n",
       "      <td>3</td>\n",
       "      <td>planned start</td>\n",
       "      <td>0.0</td>\n",
       "      <td>plan</td>\n",
       "      <td>NaN</td>\n",
       "    </tr>\n",
       "    <tr>\n",
       "      <th>4</th>\n",
       "      <td>0.0</td>\n",
       "      <td>3</td>\n",
       "      <td>actual start</td>\n",
       "      <td>0.0</td>\n",
       "      <td>plan</td>\n",
       "      <td>NaN</td>\n",
       "    </tr>\n",
       "    <tr>\n",
       "      <th>5</th>\n",
       "      <td>6.0</td>\n",
       "      <td>3</td>\n",
       "      <td>pause</td>\n",
       "      <td>0.0</td>\n",
       "      <td>plan</td>\n",
       "      <td>NaN</td>\n",
       "    </tr>\n",
       "    <tr>\n",
       "      <th>6</th>\n",
       "      <td>41.0</td>\n",
       "      <td>3</td>\n",
       "      <td>resume</td>\n",
       "      <td>0.0</td>\n",
       "      <td>plan</td>\n",
       "      <td>NaN</td>\n",
       "    </tr>\n",
       "    <tr>\n",
       "      <th>7</th>\n",
       "      <td>51.0</td>\n",
       "      <td>3</td>\n",
       "      <td>end</td>\n",
       "      <td>0.0</td>\n",
       "      <td>plan</td>\n",
       "      <td>NaN</td>\n",
       "    </tr>\n",
       "    <tr>\n",
       "      <th>8</th>\n",
       "      <td>40.0</td>\n",
       "      <td>2</td>\n",
       "      <td>planned start</td>\n",
       "      <td>0.0</td>\n",
       "      <td>request</td>\n",
       "      <td>2.0</td>\n",
       "    </tr>\n",
       "    <tr>\n",
       "      <th>9</th>\n",
       "      <td>71.0</td>\n",
       "      <td>2</td>\n",
       "      <td>actual start</td>\n",
       "      <td>0.0</td>\n",
       "      <td>request</td>\n",
       "      <td>2.0</td>\n",
       "    </tr>\n",
       "    <tr>\n",
       "      <th>10</th>\n",
       "      <td>81.0</td>\n",
       "      <td>2</td>\n",
       "      <td>end</td>\n",
       "      <td>0.0</td>\n",
       "      <td>request</td>\n",
       "      <td>2.0</td>\n",
       "    </tr>\n",
       "    <tr>\n",
       "      <th>11</th>\n",
       "      <td>20.0</td>\n",
       "      <td>4</td>\n",
       "      <td>planned start</td>\n",
       "      <td>0.0</td>\n",
       "      <td>plan</td>\n",
       "      <td>NaN</td>\n",
       "    </tr>\n",
       "    <tr>\n",
       "      <th>12</th>\n",
       "      <td>101.0</td>\n",
       "      <td>4</td>\n",
       "      <td>actual start</td>\n",
       "      <td>0.0</td>\n",
       "      <td>plan</td>\n",
       "      <td>NaN</td>\n",
       "    </tr>\n",
       "    <tr>\n",
       "      <th>13</th>\n",
       "      <td>111.0</td>\n",
       "      <td>4</td>\n",
       "      <td>end</td>\n",
       "      <td>0.0</td>\n",
       "      <td>plan</td>\n",
       "      <td>NaN</td>\n",
       "    </tr>\n",
       "    <tr>\n",
       "      <th>14</th>\n",
       "      <td>5.0</td>\n",
       "      <td>0</td>\n",
       "      <td>planned start</td>\n",
       "      <td>0.0</td>\n",
       "      <td>request</td>\n",
       "      <td>1.0</td>\n",
       "    </tr>\n",
       "    <tr>\n",
       "      <th>15</th>\n",
       "      <td>131.0</td>\n",
       "      <td>0</td>\n",
       "      <td>actual start</td>\n",
       "      <td>0.0</td>\n",
       "      <td>request</td>\n",
       "      <td>1.0</td>\n",
       "    </tr>\n",
       "    <tr>\n",
       "      <th>16</th>\n",
       "      <td>136.0</td>\n",
       "      <td>0</td>\n",
       "      <td>end</td>\n",
       "      <td>0.0</td>\n",
       "      <td>request</td>\n",
       "      <td>1.0</td>\n",
       "    </tr>\n",
       "    <tr>\n",
       "      <th>17</th>\n",
       "      <td>136.0</td>\n",
       "      <td>5</td>\n",
       "      <td>planned start</td>\n",
       "      <td>NaN</td>\n",
       "      <td>return_to_office</td>\n",
       "      <td>NaN</td>\n",
       "    </tr>\n",
       "    <tr>\n",
       "      <th>18</th>\n",
       "      <td>136.0</td>\n",
       "      <td>5</td>\n",
       "      <td>actual start</td>\n",
       "      <td>NaN</td>\n",
       "      <td>return_to_office</td>\n",
       "      <td>NaN</td>\n",
       "    </tr>\n",
       "    <tr>\n",
       "      <th>19</th>\n",
       "      <td>156.0</td>\n",
       "      <td>5</td>\n",
       "      <td>end</td>\n",
       "      <td>NaN</td>\n",
       "      <td>return_to_office</td>\n",
       "      <td>NaN</td>\n",
       "    </tr>\n",
       "  </tbody>\n",
       "</table>\n",
       "</div>"
      ],
      "text/plain": [
       "     time  event         action  patient              type  request_level\n",
       "0     6.0      1  planned start      0.0           request            3.0\n",
       "1     6.0      1   actual start      0.0           request            3.0\n",
       "2    35.0      1            end      0.0           request            3.0\n",
       "3     0.0      3  planned start      0.0              plan            NaN\n",
       "4     0.0      3   actual start      0.0              plan            NaN\n",
       "5     6.0      3          pause      0.0              plan            NaN\n",
       "6    41.0      3         resume      0.0              plan            NaN\n",
       "7    51.0      3            end      0.0              plan            NaN\n",
       "8    40.0      2  planned start      0.0           request            2.0\n",
       "9    71.0      2   actual start      0.0           request            2.0\n",
       "10   81.0      2            end      0.0           request            2.0\n",
       "11   20.0      4  planned start      0.0              plan            NaN\n",
       "12  101.0      4   actual start      0.0              plan            NaN\n",
       "13  111.0      4            end      0.0              plan            NaN\n",
       "14    5.0      0  planned start      0.0           request            1.0\n",
       "15  131.0      0   actual start      0.0           request            1.0\n",
       "16  136.0      0            end      0.0           request            1.0\n",
       "17  136.0      5  planned start      NaN  return_to_office            NaN\n",
       "18  136.0      5   actual start      NaN  return_to_office            NaN\n",
       "19  156.0      5            end      NaN  return_to_office            NaN"
      ]
     },
     "metadata": {},
     "output_type": "display_data"
    }
   ],
   "source": [
    "display(event_log_df)"
   ]
  },
  {
   "cell_type": "code",
   "execution_count": null,
   "id": "d69accb8",
   "metadata": {},
   "outputs": [],
   "source": [
    "# graph_path = \"../../input/layouts/toScaleLayout.json\"\n",
    "# people_path = \"../../input/people/manyPeople.json\"\n",
    "# event_path = \"../../input/events/reqReorder.json\"\n",
    "# nurse_log_path = \"../../output/nurseLog.csv\"\n",
    "# event_log_path = \"../../output/eventLog.csv\""
   ]
  },
  {
   "cell_type": "code",
   "execution_count": 3,
   "id": "d2b4a2ee",
   "metadata": {},
   "outputs": [
    {
     "name": "stdout",
     "output_type": "stream",
     "text": [
      "pygame 2.6.1 (SDL 2.28.4, Python 3.12.3)\n",
      "Hello from the pygame community. https://www.pygame.org/contribute.html\n"
     ]
    }
   ],
   "source": [
    "# import src.data_generator as dg\n",
    "# importlib.reload(dg)\n",
    "from src.main import App\n",
    "from src.data_generator import DataGenerator"
   ]
  },
  {
   "cell_type": "code",
   "execution_count": 15,
   "id": "3fc22cc5",
   "metadata": {},
   "outputs": [],
   "source": [
    "exp_layout = \"../../input/layouts/expLayout.json\"\n",
    "two_nurses = \"../../input/people/expPeople1.json\" #two nurses, 4 patients each, 2 patients per room\n",
    "one_nurse = project_root + \"/input/people/expOneNurse.json\"\n",
    "exp_nurse_log = project_root + \"/output/expNurseLog.csv\"\n",
    "exp_event_log = project_root + \"/output/expEventLog.csv\""
   ]
  },
  {
   "cell_type": "code",
   "execution_count": 11,
   "id": "7a79519c",
   "metadata": {},
   "outputs": [],
   "source": [
    "def run_exp(people_path, event_path):\n",
    "    app = App(exp_layout, people_path, event_path, exp_nurse_log, exp_event_log)\n",
    "    app.run_simulation()"
   ]
  },
  {
   "cell_type": "code",
   "execution_count": null,
   "id": "59342bf1",
   "metadata": {},
   "outputs": [],
   "source": [
    "#exp1: two nurses, basic assigner\n",
    "exp_events1 = project_root + \"/input/events/expEvents1.json\"\n",
    "event_gen1 = DataGenerator(rnd=42, layout_file=exp_layout, people_file=two_nurses, out_file=exp_events1)\n",
    "event_gen1.create_events()"
   ]
  },
  {
   "cell_type": "code",
   "execution_count": null,
   "id": "d6f4d669",
   "metadata": {},
   "outputs": [],
   "source": [
    "run_exp(people_path=two_nurses, event_path=exp_events1)"
   ]
  },
  {
   "cell_type": "code",
   "execution_count": null,
   "id": "f709d8e1",
   "metadata": {},
   "outputs": [],
   "source": [
    "#exp2: two nurses, other assigner\n",
    "exp_events2 = project_root + \"/input/events/expEvents2.json\"\n",
    "event_gen2 = DataGenerator(rnd=42, layout_file=exp_layout, people_file=two_nurses, out_file=exp_events2, request_assigner='other')\n",
    "event_gen2.create_events()"
   ]
  },
  {
   "cell_type": "code",
   "execution_count": null,
   "id": "50c329f5",
   "metadata": {},
   "outputs": [],
   "source": [
    "#exp3: one nurse, basic assigner\n",
    "exp_events3 = project_root + \"/input/events/expEvents3.json\"\n",
    "event_gen3 = DataGenerator(rnd=42, layout_file=exp_layout, people_file=one_nurse, out_file=exp_events3, request_assigner='basic')\n",
    "event_gen3.create_events()"
   ]
  },
  {
   "cell_type": "code",
   "execution_count": null,
   "id": "f5fb46aa",
   "metadata": {},
   "outputs": [],
   "source": [
    "#exp4: one nurse, other assigner\n",
    "exp_events4 = project_root + \"/input/events/expEvents4.json\"\n",
    "event_gen4 = DataGenerator(rnd=42, layout_file=exp_layout, people_file=one_nurse, out_file=exp_events4, request_assigner='other')\n",
    "event_gen4.create_events()"
   ]
  }
 ],
 "metadata": {
  "kernelspec": {
   "display_name": "simVenv",
   "language": "python",
   "name": "python3"
  },
  "language_info": {
   "codemirror_mode": {
    "name": "ipython",
    "version": 3
   },
   "file_extension": ".py",
   "mimetype": "text/x-python",
   "name": "python",
   "nbconvert_exporter": "python",
   "pygments_lexer": "ipython3",
   "version": "3.12.3"
  }
 },
 "nbformat": 4,
 "nbformat_minor": 5
}
