{
 "cells": [
  {
   "cell_type": "code",
   "execution_count": 1,
   "id": "d9106bb7-1ab1-45ca-b27b-583a08296670",
   "metadata": {},
   "outputs": [],
   "source": [
    "import pandas as pd\n",
    "from math import sqrt\n",
    "import numpy as np\n",
    "import importlib"
   ]
  },
  {
   "cell_type": "code",
   "execution_count": 2,
   "id": "89dd6e1e",
   "metadata": {},
   "outputs": [
    {
     "name": "stdout",
     "output_type": "stream",
     "text": [
      "/home/julia/school/bakalarka/hospital_sim\n",
      "['/usr/lib/python312.zip', '/usr/lib/python3.12', '/usr/lib/python3.12/lib-dynload', '', '/home/julia/school/bakalarka/simVenv/lib/python3.12/site-packages', '/home/julia/school/bakalarka/hospital_sim']\n",
      "/home/julia/school/bakalarka/hospital_sim\n"
     ]
    }
   ],
   "source": [
    "import sys\n",
    "import os\n",
    "\n",
    "# Get the absolute path to the 'src' directory\n",
    "sys.path.append(os.path.abspath(\"../..\"))\n",
    "print(os.path.abspath(\"../..\"))\n",
    "project_root = os.path.abspath(\"../..\")\n",
    "print(sys.path)\n",
    "print(project_root)"
   ]
  },
  {
   "cell_type": "code",
   "execution_count": null,
   "id": "d69accb8",
   "metadata": {},
   "outputs": [],
   "source": [
    "# graph_path = \"../../input/layouts/toScaleLayout.json\"\n",
    "# people_path = \"../../input/people/manyPeople.json\"\n",
    "# event_path = \"../../input/events/reqReorder.json\"\n",
    "# nurse_log_path = \"../../output/nurseLog.csv\"\n",
    "# event_log_path = \"../../output/eventLog.csv\""
   ]
  },
  {
   "cell_type": "code",
   "execution_count": 3,
   "id": "d2b4a2ee",
   "metadata": {},
   "outputs": [
    {
     "name": "stdout",
     "output_type": "stream",
     "text": [
      "pygame 2.6.1 (SDL 2.28.4, Python 3.12.3)\n",
      "Hello from the pygame community. https://www.pygame.org/contribute.html\n"
     ]
    }
   ],
   "source": [
    "# import src.data_generator as dg\n",
    "# import src.main\n",
    "# importlib.reload(src.main)\n",
    "from src.main import App\n",
    "from src.data_generator import DataGenerator\n",
    "from src.process_data import DataProcessor"
   ]
  },
  {
   "cell_type": "code",
   "execution_count": 9,
   "id": "3fc22cc5",
   "metadata": {},
   "outputs": [],
   "source": [
    "exp_layout = \"../../input/layouts/expLayout.json\"\n",
    "two_nurses = \"../../input/people/expPeople1.json\" #two nurses, 4 patients each, 2 patients per room\n",
    "one_nurse = project_root + \"/input/people/expOneNurse.json\"\n",
    "exp_nurse_log = project_root + \"/output/expNurseLog.csv\"\n",
    "exp_event_log = project_root + \"/output/expEventLog.csv\"\n",
    "event_paths = [\"expEvents1.json\",\n",
    "\"expEvents2.json\",\n",
    "\"expEvents3.json\",\n",
    "\"expEvents4.json\",\n",
    "\"expEvents5.json\",\n",
    "\"expEvents6.json\",\n",
    "\"expEvents7.json\",\n",
    "\"expEvents8.json\",]"
   ]
  },
  {
   "cell_type": "code",
   "execution_count": null,
   "id": "c520989b",
   "metadata": {},
   "outputs": [
    {
     "name": "stdout",
     "output_type": "stream",
     "text": [
      "['/home/julia/school/bakalarka/hospital_sim/input/events/expEvents1.json', '/home/julia/school/bakalarka/hospital_sim/input/events/expEvents2.json', '/home/julia/school/bakalarka/hospital_sim/input/events/expEvents3.json', '/home/julia/school/bakalarka/hospital_sim/input/events/expEvents4.json', '/home/julia/school/bakalarka/hospital_sim/input/events/expEvents5.json', '/home/julia/school/bakalarka/hospital_sim/input/events/expEvents6.json', '/home/julia/school/bakalarka/hospital_sim/input/events/expEvents7.json', '/home/julia/school/bakalarka/hospital_sim/input/events/expEvents8.json']\n"
     ]
    }
   ],
   "source": [
    "full_event_paths = list(map(lambda x: project_root + \"/input/events/\" + x, event_paths))\n",
    "print(full_event_paths)\n"
   ]
  },
  {
   "cell_type": "code",
   "execution_count": 28,
   "id": "96af9a57",
   "metadata": {},
   "outputs": [],
   "source": [
    "params1 = {\"event_path\" : full_event_paths[0], \"nurse_cnt\": 2, \"people_path\": two_nurses, \"request_assigner\": \"basic\", \"include_plans\": True}\n",
    "params2 = {\"event_path\" : full_event_paths[1], \"nurse_cnt\": 2, \"people_path\": two_nurses, \"request_assigner\": \"other\", \"include_plans\": True}\n",
    "params3 = {\"event_path\" : full_event_paths[2], \"nurse_cnt\": 1, \"people_path\": one_nurse,  \"request_assigner\": \"basic\", \"include_plans\": True}\n",
    "params4 = {\"event_path\" : full_event_paths[3], \"nurse_cnt\": 1, \"people_path\": one_nurse,  \"request_assigner\": \"other\", \"include_plans\": True}\n",
    "params5 = {\"event_path\" : full_event_paths[4], \"nurse_cnt\": 2, \"people_path\": two_nurses, \"request_assigner\": \"basic\", \"include_plans\": False}\n",
    "params6 = {\"event_path\" : full_event_paths[5], \"nurse_cnt\": 2, \"people_path\": two_nurses, \"request_assigner\": \"other\", \"include_plans\": False}\n",
    "params7 = {\"event_path\" : full_event_paths[6], \"nurse_cnt\": 1, \"people_path\": one_nurse,  \"request_assigner\": \"basic\", \"include_plans\": False}\n",
    "params8 = {\"event_path\" : full_event_paths[7], \"nurse_cnt\": 1, \"people_path\": one_nurse,  \"request_assigner\": \"other\", \"include_plans\": False}\n",
    "params_lst = [params1, params2, params3, params4, params5, params6, params7, params8]"
   ]
  },
  {
   "cell_type": "code",
   "execution_count": 24,
   "id": "b15196f7",
   "metadata": {},
   "outputs": [],
   "source": [
    "def generate_exp(params):\n",
    "    # exp_events = project_root + \"/input/events/\" + exp_event_path\n",
    "    # if nurse_cnt == 1:\n",
    "    #     people_file = one_nurse\n",
    "    # elif nurse_cnt == 2:\n",
    "    #     people_file = two_nurses\n",
    "    event_gen = DataGenerator(rnd=42, layout_file=exp_layout, people_file=params[\"people_path\"], out_file=params[\"event_path\"], request_assigner=params[\"request_assigner\"],\n",
    "                               include_plans=params[\"include_plans\"])\n",
    "    event_gen.create_events() "
   ]
  },
  {
   "cell_type": "code",
   "execution_count": 25,
   "id": "7a79519c",
   "metadata": {},
   "outputs": [],
   "source": [
    "def run_exp(params):\n",
    "    app = App(exp_layout, params[\"people_path\"], params[\"event_path\"], exp_nurse_log, exp_event_log)\n",
    "    app.run_simulation()"
   ]
  },
  {
   "cell_type": "code",
   "execution_count": 26,
   "id": "88185595",
   "metadata": {},
   "outputs": [],
   "source": [
    "def process_data(params):\n",
    "    dp = DataProcessor(exp_nurse_log, exp_event_log, params[\"people_path\"])\n",
    "    results = {}\n",
    "    for i in range(params[\"nurse_cnt\"]):\n",
    "        results[\"nurse_dst_walked\" + str(i) ] = dp.nurse_dst_walked(i)\n",
    "        results[\"nurse_time_walked\" + str(i)] = dp.nurse_time_walked(i)\n",
    "        results[\"nurse_time_at_own_patients\" + str(i)] = dp.nurse_time_at_own_patients(i)\n",
    "        results[\"nurse_time_at_other_patients\" + str(i)] = dp.nurse_time_at_other_patients(i)\n",
    "        results[\"nurse_time_resting\" + str(i)] = dp.nurse_time_resting(i)\n",
    "    return results"
   ]
  },
  {
   "cell_type": "code",
   "execution_count": null,
   "id": "59342bf1",
   "metadata": {},
   "outputs": [],
   "source": [
    "#exp1: two nurses, basic assigner\n",
    "#exp2: two nurses, other assigner\n",
    "#exp3: one nurse, basic assigner\n",
    "#exp4: one nurse, other assigner\n",
    "# generate_exp(exp_event_path=event_paths[0], nurse_cnt=2, request_assigner=\"basic\", include_plans=True)\n",
    "# generate_exp(exp_event_path=event_paths[1], nurse_cnt=2, request_assigner=\"other\", include_plans=True)\n",
    "# generate_exp(exp_event_path=event_paths[2], nurse_cnt=1, request_assigner=\"basic\", include_plans=True)\n",
    "# generate_exp(exp_event_path=event_paths[3], nurse_cnt=1, request_assigner=\"other\", include_plans=True)\n",
    "# generate_exp(exp_event_path=event_paths[4], nurse_cnt=2, request_assigner=\"basic\", include_plans=False)\n",
    "# generate_exp(exp_event_path=event_paths[5], nurse_cnt=2, request_assigner=\"other\", include_plans=False)\n",
    "# generate_exp(exp_event_path=event_paths[6], nurse_cnt=1, request_assigner=\"basic\", include_plans=False)\n",
    "# generate_exp(exp_event_path=event_paths[7], nurse_cnt=1, request_assigner=\"other\", include_plans=False)"
   ]
  },
  {
   "cell_type": "code",
   "execution_count": null,
   "id": "1c46e4df",
   "metadata": {},
   "outputs": [],
   "source": [
    "for params in params_lst:\n",
    "    generate_exp(params)"
   ]
  },
  {
   "cell_type": "code",
   "execution_count": null,
   "id": "d6f4d669",
   "metadata": {},
   "outputs": [],
   "source": [
    "run_exp(params_lst[1])"
   ]
  },
  {
   "cell_type": "code",
   "execution_count": 30,
   "id": "794a4bf2",
   "metadata": {},
   "outputs": [],
   "source": [
    "results1 = process_data(params_lst[0])"
   ]
  },
  {
   "cell_type": "code",
   "execution_count": 31,
   "id": "c54c754a",
   "metadata": {},
   "outputs": [
    {
     "name": "stdout",
     "output_type": "stream",
     "text": [
      "{'nurse_dst_walked0': 218.0, 'nurse_time_walked0': np.float64(218.0), 'nurse_time_at_own_patients0': np.float64(2729.925981804981), 'nurse_time_at_other_patients0': 0, 'nurse_time_resting0': np.float64(1654.8915498724905), 'nurse_dst_walked1': 320.0, 'nurse_time_walked1': np.float64(320.0), 'nurse_time_at_own_patients1': np.float64(3566.151891352622), 'nurse_time_at_other_patients1': 0, 'nurse_time_resting1': np.float64(716.6656403248494)}\n"
     ]
    }
   ],
   "source": [
    "print(results1)"
   ]
  }
 ],
 "metadata": {
  "kernelspec": {
   "display_name": "simVenv",
   "language": "python",
   "name": "python3"
  },
  "language_info": {
   "codemirror_mode": {
    "name": "ipython",
    "version": 3
   },
   "file_extension": ".py",
   "mimetype": "text/x-python",
   "name": "python",
   "nbconvert_exporter": "python",
   "pygments_lexer": "ipython3",
   "version": "3.12.3"
  }
 },
 "nbformat": 4,
 "nbformat_minor": 5
}
