{
 "cells": [
  {
   "cell_type": "code",
   "execution_count": 2,
   "metadata": {},
   "outputs": [],
   "source": [
    "import pandas as pd\n",
    "import importlib"
   ]
  },
  {
   "cell_type": "code",
   "execution_count": 3,
   "metadata": {},
   "outputs": [
    {
     "name": "stdout",
     "output_type": "stream",
     "text": [
      "pygame 2.6.1 (SDL 2.28.4, Python 3.10.12)\n",
      "Hello from the pygame community. https://www.pygame.org/contribute.html\n"
     ]
    },
    {
     "data": {
      "text/plain": [
       "<module 'plot' from '/home/julia/school/bakalarka/hospital_sim/plot.py'>"
      ]
     },
     "execution_count": 3,
     "metadata": {},
     "output_type": "execute_result"
    }
   ],
   "source": [
    "import basic_example2 as be\n",
    "importlib.reload(be)\n",
    "import plot\n",
    "importlib.reload(plot)"
   ]
  },
  {
   "cell_type": "code",
   "execution_count": 4,
   "metadata": {},
   "outputs": [],
   "source": [
    "def simulate(nurse_amount: int=3, patient_amount: int=5, requests: list[tuple[int, int]]=None) -> tuple[pd.DataFrame, plot.Plot]:\n",
    "    nurses, patients = be.create_nurses_and_patients(nurseAmount=nurse_amount, patientAmount=patient_amount)\n",
    "    if requests == None:\n",
    "        requests = be.generate_requests(len(patients))\n",
    "    patient_dsts = []\n",
    "    patient_nurses = []\n",
    "    for patient in patients:\n",
    "        patient_dsts.append(patient.office_dst)\n",
    "        patient_nurses.append(patient.nurse_id)\n",
    "    sim = be.Simulator(requests, nurses, patients)\n",
    "    df = pd.DataFrame(sim.simulate())\n",
    "    outDict = df.to_dict(orient='records') \n",
    "    my_plot = plot.Plot(outDict, nurse_amount, patient_amount, patient_dsts, patient_nurses)\n",
    "    return df, my_plot"
   ]
  },
  {
   "cell_type": "code",
   "execution_count": null,
   "metadata": {},
   "outputs": [],
   "source": [
    "%%capture\n",
    "df, my_plot = simulate(3, 3, [(1, 0), (2, 1), (3, 1), (4, 0)]) \n",
    "my_plot.run()"
   ]
  },
  {
   "cell_type": "code",
   "execution_count": 9,
   "metadata": {},
   "outputs": [
    {
     "ename": "SystemExit",
     "evalue": "",
     "output_type": "error",
     "traceback": [
      "An exception has occurred, use %tb to see the full traceback.\n",
      "\u001b[0;31mSystemExit\u001b[0m\n"
     ]
    }
   ],
   "source": [
    "%%capture\n",
    "df, my_plot = simulate(3, 5) \n",
    "my_plot.run()"
   ]
  },
  {
   "cell_type": "code",
   "execution_count": 10,
   "metadata": {},
   "outputs": [
    {
     "ename": "SystemExit",
     "evalue": "",
     "output_type": "error",
     "traceback": [
      "An exception has occurred, use %tb to see the full traceback.\n",
      "\u001b[0;31mSystemExit\u001b[0m\n"
     ]
    }
   ],
   "source": [
    "%%capture\n",
    "df, my_plot = simulate(3, 3, [(1, 0), (25, 2), (26, 1), (50, 0)]) \n",
    "my_plot.run()"
   ]
  },
  {
   "cell_type": "code",
   "execution_count": null,
   "metadata": {},
   "outputs": [],
   "source": [
    "#kolikrát sestra vyřizovala pacienta\n",
    "def patients_per_nurse(nurse_id):\n",
    "    nurse_df =  df[df[\"chosen_nurse_id\"] == nurse_id]\n",
    "    display(nurse_df[\"patient_id\"].value_counts())"
   ]
  },
  {
   "cell_type": "code",
   "execution_count": null,
   "metadata": {},
   "outputs": [],
   "source": [
    "patients_per_nurse(1)"
   ]
  },
  {
   "cell_type": "code",
   "execution_count": null,
   "metadata": {},
   "outputs": [],
   "source": [
    "#kolik toho sestra nachodila\n",
    "def nurse_distance_walked(nurse_id):\n",
    "    nurse_df = df[df[\"nurse_id\"] == nurse_id]\n",
    "    times = nurse_df[\"time\"].to_list()\n",
    "    assert(len(times) % 4 == 0)\n",
    "    request_num = (len(times) / 4)\n",
    "    walk_time_there = times[1] - times[0]\n",
    "    walk_time_back = times[3] - times[2]\n",
    "    walk_time = request_num * (walk_time_there + walk_time_back)\n",
    "    # display(nurse_df)\n",
    "    return walk_time\n",
    "\n",
    "print(nurse_distance_walked(0))"
   ]
  },
  {
   "cell_type": "code",
   "execution_count": null,
   "metadata": {},
   "outputs": [],
   "source": [
    "#jak dlouho pacient čekal\n",
    "def total_wait_time(patient_id):\n",
    "    patient_df = df[df[\"patient_id\"] == patient_id]\n",
    "    display(patient_df)\n",
    "    reqs = patient_df[\"request_id\"].unique()\n",
    "    total_time = 0\n",
    "    for request in reqs:\n",
    "        req_df = patient_df[patient_df[\"request_id\"] == request]\n",
    "        # display(req_df)\n",
    "        start_time = req_df.iloc[0].time\n",
    "        end_time = req_df[req_df[\"nurse_phase\"] == \"arrived\"].iloc[0][\"time\"] #surely this can be done more elegantly\n",
    "        # end_time = req_df.iloc[-3][\"time\"] would work here but not in the future\n",
    "        # print(end_time)\n",
    "        time_waiting = end_time - start_time\n",
    "        # print(start_time, end_time, time_waiting)\n",
    "        total_time += time_waiting\n",
    "    return total_time\n",
    "\n",
    "print(total_wait_time(1))\n",
    "# reqs"
   ]
  },
  {
   "cell_type": "code",
   "execution_count": null,
   "metadata": {},
   "outputs": [],
   "source": [
    "len(df[df[\"patient_id\"] == 1][\"request_id\"].unique())"
   ]
  },
  {
   "cell_type": "code",
   "execution_count": null,
   "metadata": {},
   "outputs": [],
   "source": [
    "nurseAmount = 5\n",
    "patientAmount = 10\n",
    "simulations = 2\n",
    "nurses, patients = be.create_nurses_and_patients(nurseAmount=nurseAmount, patientAmount=patientAmount)\n",
    "walk_times = [0] * nurseAmount\n",
    "\n",
    "for _ in range(simulations):\n",
    "    requests = be.generate_requests(len(patients))\n",
    "    sim = be.Simulator(requests, nurses, patients)\n",
    "    df = pd.DataFrame(sim.simulate())\n",
    "\n",
    "    for n in range(nurseAmount):\n",
    "        walk_times[n] += nurse_distance_walked(n)\n",
    "\n",
    "avg_walk_times = list(map(lambda x : x / simulations, walk_times))\n",
    "print(avg_walk_times)"
   ]
  },
  {
   "cell_type": "code",
   "execution_count": null,
   "metadata": {},
   "outputs": [],
   "source": [
    "nurses, patients = be.create_nurses_and_patients(nurseAmount=3, patientAmount=3)\n",
    "requests = [(1, 0), (25, 2), (26, 1), (50, 0)] #time, patient id\n",
    "sim = be.Simulator(requests, nurses, patients)\n",
    "out = sim.simulate()\n",
    "df2 = pd.DataFrame(out) #TODO design some structure to not have to go through df to keep NaNs\n",
    "outDict = df2.to_dict(orient='records') \n",
    "simPlot = plot.Plot(outDict)\n",
    "simPlot.run()"
   ]
  },
  {
   "cell_type": "code",
   "execution_count": null,
   "metadata": {},
   "outputs": [],
   "source": [
    "outDict = df2.to_dict(orient='records')\n",
    "print(outDict)"
   ]
  }
 ],
 "metadata": {
  "kernelspec": {
   "display_name": "env",
   "language": "python",
   "name": "python3"
  },
  "language_info": {
   "codemirror_mode": {
    "name": "ipython",
    "version": 3
   },
   "file_extension": ".py",
   "mimetype": "text/x-python",
   "name": "python",
   "nbconvert_exporter": "python",
   "pygments_lexer": "ipython3",
   "version": "3.10.12"
  }
 },
 "nbformat": 4,
 "nbformat_minor": 2
}
