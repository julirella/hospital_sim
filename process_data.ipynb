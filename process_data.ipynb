{
 "cells": [
  {
   "cell_type": "code",
   "execution_count": null,
   "metadata": {},
   "outputs": [],
   "source": [
    "import pandas as pd\n",
    "import importlib"
   ]
  },
  {
   "cell_type": "code",
   "execution_count": 15,
   "metadata": {},
   "outputs": [
    {
     "data": {
      "text/plain": [
       "<module 'plot' from '/home/julia/school/bakalarka/hospital_sim/plot.py'>"
      ]
     },
     "execution_count": 15,
     "metadata": {},
     "output_type": "execute_result"
    }
   ],
   "source": [
    "import basic_example2 as be\n",
    "importlib.reload(be)\n",
    "import plot\n",
    "importlib.reload(plot)"
   ]
  },
  {
   "cell_type": "code",
   "execution_count": null,
   "metadata": {},
   "outputs": [],
   "source": [
    "nurses, patients = be.create_nurses_and_patients(nurseAmount=5, patientAmount=10)\n"
   ]
  },
  {
   "cell_type": "code",
   "execution_count": null,
   "metadata": {},
   "outputs": [],
   "source": [
    "nurses, patients = be.create_nurses_and_patients(nurseAmount=3, patientAmount=5)\n",
    "requests = be.generate_requests(len(patients))\n",
    "sim = be.Simulator(requests, nurses, patients)\n",
    "df = pd.DataFrame(sim.simulate())"
   ]
  },
  {
   "cell_type": "code",
   "execution_count": null,
   "metadata": {},
   "outputs": [],
   "source": [
    "nurses, patients = be.create_nurses_and_patients(nurseAmount=3, patientAmount=3)\n",
    "requests = [(1, 0), (25, 2), (26, 1), (50, 0)] #time, patient id\n",
    "sim = be.Simulator(requests, nurses, patients)\n",
    "df = pd.DataFrame(sim.simulate())"
   ]
  },
  {
   "cell_type": "code",
   "execution_count": 10,
   "metadata": {},
   "outputs": [],
   "source": [
    "def simulate(nurse_amount: int=3, patient_amount: int=5, requests: list[tuple[int, int]]=None) -> tuple[pd.DataFrame, plot.Plot]:\n",
    "    nurses, patients = be.create_nurses_and_patients(nurseAmount=nurse_amount, patientAmount=patient_amount)\n",
    "    if requests == None:\n",
    "        requests = be.generate_requests(len(patients))\n",
    "    patient_dsts = []\n",
    "    patient_nurses = []\n",
    "    for patient in patients:\n",
    "        patient_dsts.append(patient.office_dst)\n",
    "        patient_nurses.append(patient.nurse_id)\n",
    "    sim = be.Simulator(requests, nurses, patients)\n",
    "    df = pd.DataFrame(sim.simulate())\n",
    "    outDict = df.to_dict(orient='records') \n",
    "    my_plot = plot.Plot(outDict, nurse_amount, patient_amount, patient_dsts, patient_nurses)\n",
    "    return df, my_plot"
   ]
  },
  {
   "cell_type": "code",
   "execution_count": 19,
   "metadata": {},
   "outputs": [
    {
     "name": "stdout",
     "output_type": "stream",
     "text": [
      "1 request from patient 0\n",
      "1 nurse 0 chosen for patient 0\n",
      "2 request from patient 1\n",
      "2 nurse 1 chosen for patient 1\n",
      "2 nurse 0 departing to patient 0\n",
      "3 request from patient 1\n",
      "3 nurse 2 chosen for patient 1 because nurse 1 is busy\n",
      "3 nurse 1 departing to patient 1\n",
      "4 request from patient 0\n",
      "4 all nurses busy, request pushed back to 22\n",
      "4 nurse 2 departing to patient 1\n",
      "7 nurse 0 arrived at patient 0\n",
      "13 nurse 1 arrived at patient 1\n",
      "14 nurse 2 arrived at patient 1\n",
      "17 nurse 0 dealt with request from patient 0\n",
      "22 request from patient 0\n",
      "22 all nurses busy, request pushed back to 22\n",
      "22 nurse 0 returned from patient 0\n",
      "22 request from patient 0\n",
      "22 nurse 0 chosen for patient 0\n",
      "23 nurse 1 dealt with request from patient 1\n",
      "23 nurse 0 departing to patient 0\n",
      "24 nurse 2 dealt with request from patient 1\n",
      "28 nurse 0 arrived at patient 0\n",
      "33 nurse 1 returned from patient 1\n",
      "34 nurse 2 returned from patient 1\n",
      "38 nurse 0 dealt with request from patient 0\n",
      "43 nurse 0 returned from patient 0\n"
     ]
    }
   ],
   "source": [
    "df, my_plot = simulate(3, 3, [(1, 0), (2, 1), (3, 1), (4, 0)]) "
   ]
  },
  {
   "cell_type": "code",
   "execution_count": 20,
   "metadata": {},
   "outputs": [
    {
     "name": "stdout",
     "output_type": "stream",
     "text": [
      "here\n"
     ]
    },
    {
     "ename": "SystemExit",
     "evalue": "",
     "output_type": "error",
     "traceback": [
      "An exception has occurred, use %tb to see the full traceback.\n",
      "\u001b[0;31mSystemExit\u001b[0m\n"
     ]
    },
    {
     "name": "stderr",
     "output_type": "stream",
     "text": [
      "/home/julia/school/bakalarka/env/lib/python3.10/site-packages/IPython/core/interactiveshell.py:3585: UserWarning: To exit: use 'exit', 'quit', or Ctrl-D.\n",
      "  warn(\"To exit: use 'exit', 'quit', or Ctrl-D.\", stacklevel=1)\n"
     ]
    }
   ],
   "source": [
    "my_plot.run()"
   ]
  },
  {
   "cell_type": "code",
   "execution_count": null,
   "metadata": {},
   "outputs": [
    {
     "name": "stdout",
     "output_type": "stream",
     "text": [
      "here\n"
     ]
    },
    {
     "ename": "SystemExit",
     "evalue": "",
     "output_type": "error",
     "traceback": [
      "An exception has occurred, use %tb to see the full traceback.\n",
      "\u001b[0;31mSystemExit\u001b[0m\n"
     ]
    },
    {
     "name": "stderr",
     "output_type": "stream",
     "text": [
      "/home/julia/school/bakalarka/env/lib/python3.10/site-packages/IPython/core/interactiveshell.py:3585: UserWarning: To exit: use 'exit', 'quit', or Ctrl-D.\n",
      "  warn(\"To exit: use 'exit', 'quit', or Ctrl-D.\", stacklevel=1)\n"
     ]
    }
   ],
   "source": []
  },
  {
   "cell_type": "code",
   "execution_count": null,
   "metadata": {},
   "outputs": [],
   "source": [
    "#kolikrát sestra vyřizovala pacienta\n",
    "def patients_per_nurse(nurse_id):\n",
    "    nurse_df =  df[df[\"chosen_nurse_id\"] == nurse_id]\n",
    "    display(nurse_df[\"patient_id\"].value_counts())"
   ]
  },
  {
   "cell_type": "code",
   "execution_count": null,
   "metadata": {},
   "outputs": [],
   "source": [
    "patients_per_nurse(1)"
   ]
  },
  {
   "cell_type": "code",
   "execution_count": null,
   "metadata": {},
   "outputs": [],
   "source": [
    "#kolik toho sestra nachodila\n",
    "def nurse_distance_walked(nurse_id):\n",
    "    nurse_df = df[df[\"nurse_id\"] == nurse_id]\n",
    "    times = nurse_df[\"time\"].to_list()\n",
    "    assert(len(times) % 4 == 0)\n",
    "    request_num = (len(times) / 4)\n",
    "    walk_time_there = times[1] - times[0]\n",
    "    walk_time_back = times[3] - times[2]\n",
    "    walk_time = request_num * (walk_time_there + walk_time_back)\n",
    "    # display(nurse_df)\n",
    "    return walk_time\n",
    "\n",
    "print(nurse_distance_walked(0))"
   ]
  },
  {
   "cell_type": "code",
   "execution_count": null,
   "metadata": {},
   "outputs": [],
   "source": [
    "#jak dlouho pacient čekal\n",
    "def total_wait_time(patient_id):\n",
    "    patient_df = df[df[\"patient_id\"] == patient_id]\n",
    "    display(patient_df)\n",
    "    reqs = patient_df[\"request_id\"].unique()\n",
    "    total_time = 0\n",
    "    for request in reqs:\n",
    "        req_df = patient_df[patient_df[\"request_id\"] == request]\n",
    "        # display(req_df)\n",
    "        start_time = req_df.iloc[0].time\n",
    "        end_time = req_df[req_df[\"nurse_phase\"] == \"arrived\"].iloc[0][\"time\"] #surely this can be done more elegantly\n",
    "        # end_time = req_df.iloc[-3][\"time\"] would work here but not in the future\n",
    "        # print(end_time)\n",
    "        time_waiting = end_time - start_time\n",
    "        # print(start_time, end_time, time_waiting)\n",
    "        total_time += time_waiting\n",
    "    return total_time\n",
    "\n",
    "print(total_wait_time(1))\n",
    "# reqs"
   ]
  },
  {
   "cell_type": "code",
   "execution_count": null,
   "metadata": {},
   "outputs": [],
   "source": [
    "len(df[df[\"patient_id\"] == 1][\"request_id\"].unique())"
   ]
  },
  {
   "cell_type": "code",
   "execution_count": null,
   "metadata": {},
   "outputs": [],
   "source": [
    "nurseAmount = 5\n",
    "patientAmount = 10\n",
    "simulations = 2\n",
    "nurses, patients = be.create_nurses_and_patients(nurseAmount=nurseAmount, patientAmount=patientAmount)\n",
    "walk_times = [0] * nurseAmount\n",
    "\n",
    "for _ in range(simulations):\n",
    "    requests = be.generate_requests(len(patients))\n",
    "    sim = be.Simulator(requests, nurses, patients)\n",
    "    df = pd.DataFrame(sim.simulate())\n",
    "\n",
    "    for n in range(nurseAmount):\n",
    "        walk_times[n] += nurse_distance_walked(n)\n",
    "\n",
    "avg_walk_times = list(map(lambda x : x / simulations, walk_times))\n",
    "print(avg_walk_times)"
   ]
  },
  {
   "cell_type": "code",
   "execution_count": null,
   "metadata": {},
   "outputs": [],
   "source": [
    "nurses, patients = be.create_nurses_and_patients(nurseAmount=3, patientAmount=3)\n",
    "requests = [(1, 0), (25, 2), (26, 1), (50, 0)] #time, patient id\n",
    "sim = be.Simulator(requests, nurses, patients)\n",
    "out = sim.simulate()\n",
    "df2 = pd.DataFrame(out) #TODO design some structure to not have to go through df to keep NaNs\n",
    "outDict = df2.to_dict(orient='records') \n",
    "simPlot = plot.Plot(outDict)\n",
    "simPlot.run()"
   ]
  },
  {
   "cell_type": "code",
   "execution_count": null,
   "metadata": {},
   "outputs": [],
   "source": [
    "outDict = df2.to_dict(orient='records')\n",
    "print(outDict)"
   ]
  }
 ],
 "metadata": {
  "kernelspec": {
   "display_name": "env",
   "language": "python",
   "name": "python3"
  },
  "language_info": {
   "codemirror_mode": {
    "name": "ipython",
    "version": 3
   },
   "file_extension": ".py",
   "mimetype": "text/x-python",
   "name": "python",
   "nbconvert_exporter": "python",
   "pygments_lexer": "ipython3",
   "version": "3.10.12"
  }
 },
 "nbformat": 4,
 "nbformat_minor": 2
}
