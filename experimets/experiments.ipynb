{
 "cells": [
  {
   "cell_type": "markdown",
   "id": "26af4d2c",
   "metadata": {},
   "source": [
    "# Imports and path preparations"
   ]
  },
  {
   "cell_type": "code",
   "execution_count": null,
   "id": "d9106bb7-1ab1-45ca-b27b-583a08296670",
   "metadata": {},
   "outputs": [],
   "source": [
    "import pandas as pd\n",
    "from math import sqrt\n",
    "import numpy as np\n",
    "import importlib\n",
    "import matplotlib.pyplot as plt\n",
    "import matplotlib.patches as mpatches\n",
    "import pickle"
   ]
  },
  {
   "cell_type": "code",
   "execution_count": null,
   "id": "89dd6e1e",
   "metadata": {},
   "outputs": [],
   "source": [
    "import sys\n",
    "import os\n",
    "\n",
    "# Get the absolute path to the 'src' directory\n",
    "sys.path.append(os.path.abspath(\"..\"))\n",
    "print(os.path.abspath(\"..\"))\n",
    "project_root = os.path.abspath(\"..\")\n",
    "print(sys.path)\n",
    "print(project_root)"
   ]
  },
  {
   "cell_type": "code",
   "execution_count": null,
   "id": "d2b4a2ee",
   "metadata": {},
   "outputs": [],
   "source": [
    "from src.main import App\n",
    "from data_generator import DataGenerator\n",
    "from src.process_data import DataProcessor"
   ]
  },
  {
   "cell_type": "code",
   "execution_count": null,
   "id": "3fc22cc5",
   "metadata": {},
   "outputs": [],
   "source": [
    "exp_layout = project_root + \"/input/experiments/layouts/expLayout.json\"\n",
    "two_nurses = project_root + \"/input/experiments/people/expTwoNurses.json\" #two nurses, 4 patients each, 2 patients per room\n",
    "one_nurse = project_root + \"/input/experiments/people/expOneNurse.json\" #one nurse, 8 patients, 2 patients per room\n",
    "exp_nurse_log = project_root + \"/output/expNurseLog.csv\"\n",
    "exp_event_log = project_root + \"/output/expEventLog.csv\"\n",
    "event_paths = [\"expEvents1.json\",\n",
    "\"expEvents2.json\",\n",
    "\"expEvents3.json\",\n",
    "\"expEvents4.json\",\n",
    "\"expEvents5.json\",\n",
    "\"expEvents6.json\",\n",
    "\"expEvents7.json\",\n",
    "\"expEvents8.json\",]\n",
    "full_event_paths = list(map(lambda x: project_root + \"/input/experiments/events/\" + x, event_paths))"
   ]
  },
  {
   "cell_type": "code",
   "execution_count": null,
   "id": "c520989b",
   "metadata": {},
   "outputs": [],
   "source": [
    "# full_event_paths = list(map(lambda x: project_root + \"/input/experiments/events/\" + x, event_paths))\n",
    "print(full_event_paths)\n"
   ]
  },
  {
   "cell_type": "code",
   "execution_count": null,
   "id": "96af9a57",
   "metadata": {},
   "outputs": [],
   "source": [
    "params1 = {\"event_path\" : full_event_paths[0], \"nurse_cnt\": 2, \"people_path\": two_nurses, \"request_assigner\": \"basic\", \"include_plans\": True}\n",
    "params2 = {\"event_path\" : full_event_paths[1], \"nurse_cnt\": 2, \"people_path\": two_nurses, \"request_assigner\": \"other\", \"include_plans\": True}\n",
    "params3 = {\"event_path\" : full_event_paths[2], \"nurse_cnt\": 1, \"people_path\": one_nurse,  \"request_assigner\": \"basic\", \"include_plans\": True}\n",
    "params4 = {\"event_path\" : full_event_paths[3], \"nurse_cnt\": 1, \"people_path\": one_nurse,  \"request_assigner\": \"other\", \"include_plans\": True}\n",
    "params5 = {\"event_path\" : full_event_paths[4], \"nurse_cnt\": 2, \"people_path\": two_nurses, \"request_assigner\": \"basic\", \"include_plans\": False}\n",
    "params6 = {\"event_path\" : full_event_paths[5], \"nurse_cnt\": 2, \"people_path\": two_nurses, \"request_assigner\": \"other\", \"include_plans\": False}\n",
    "params7 = {\"event_path\" : full_event_paths[6], \"nurse_cnt\": 1, \"people_path\": one_nurse,  \"request_assigner\": \"basic\", \"include_plans\": False}\n",
    "params8 = {\"event_path\" : full_event_paths[7], \"nurse_cnt\": 1, \"people_path\": one_nurse,  \"request_assigner\": \"other\", \"include_plans\": False}\n",
    "params_lst = [params1, params2, params3, params4, params5, params6, params7, params8]"
   ]
  },
  {
   "cell_type": "markdown",
   "metadata": {},
   "source": [
    "# Functions for experiment generation and running"
   ]
  },
  {
   "cell_type": "code",
   "execution_count": null,
   "id": "b15196f7",
   "metadata": {},
   "outputs": [],
   "source": [
    "def generate_exp(params):\n",
    "    # exp_events = project_root + \"/input/events/\" + exp_event_path\n",
    "    # if nurse_cnt == 1:\n",
    "    #     people_file = one_nurse\n",
    "    # elif nurse_cnt == 2:\n",
    "    #     people_file = two_nurses\n",
    "    event_gen = DataGenerator(rnd=42, layout_file=exp_layout, people_file=params[\"people_path\"], out_file=params[\"event_path\"], request_assigner=params[\"request_assigner\"],\n",
    "                               include_plans=params[\"include_plans\"], min_requests=1, max_requests=5, max_req_len=120)\n",
    "    event_gen.create_events() "
   ]
  },
  {
   "cell_type": "code",
   "execution_count": null,
   "id": "7a79519c",
   "metadata": {},
   "outputs": [],
   "source": [
    "def run_exp(params, visualise=False):\n",
    "    app = App(exp_layout, params[\"people_path\"], params[\"event_path\"], exp_nurse_log, exp_event_log)\n",
    "    app.run_simulation(visualise)"
   ]
  },
  {
   "cell_type": "code",
   "execution_count": null,
   "id": "88185595",
   "metadata": {},
   "outputs": [],
   "source": [
    "def process_nurse_data(params):\n",
    "    dp = DataProcessor(exp_nurse_log, exp_event_log, params[\"people_path\"])\n",
    "    all_results = []\n",
    "    for i in range(params[\"nurse_cnt\"]):\n",
    "        nurse_results = {}\n",
    "        nurse_results[\"nurse_dst_walked\"] = dp.nurse_dst_walked(i)\n",
    "        nurse_results[\"nurse_time_walked\"] = dp.nurse_time_walked(i)\n",
    "        nurse_results[\"nurse_time_at_own_patients\"] = dp.nurse_time_at_own_patients(i)\n",
    "        nurse_results[\"nurse_time_at_other_patients\"] = dp.nurse_time_at_other_patients(i)\n",
    "        nurse_results[\"nurse_time_resting\"] = dp.nurse_time_resting(i)\n",
    "        all_results.append(nurse_results)\n",
    "    return all_results"
   ]
  },
  {
   "cell_type": "code",
   "execution_count": null,
   "id": "8c0f70d8",
   "metadata": {},
   "outputs": [],
   "source": [
    "def process_patient_data(params):\n",
    "    dp = DataProcessor(exp_nurse_log, exp_event_log, params[\"people_path\"])\n",
    "    all_results = []\n",
    "    for i in range(8):\n",
    "        patient_results = []\n",
    "        for lvl in range(4):\n",
    "            if lvl == 0:\n",
    "                lvl = None\n",
    "\n",
    "            level_results = {}\n",
    "            level_results[\"total_time_waiting\"] = dp.patient_total_time_waiting(i, lvl)\n",
    "            level_results[\"avg_time_waiting\"] = dp.patient_avg_time_waiting(i, lvl) #could be changed to histogram somehow\n",
    "            patient_results.append(level_results)\n",
    "        all_results.append(patient_results)\n",
    "    return all_results\n"
   ]
  },
  {
   "cell_type": "markdown",
   "id": "52721108",
   "metadata": {},
   "source": [
    "# Running the actual experiments"
   ]
  },
  {
   "cell_type": "code",
   "execution_count": null,
   "id": "af40ce6e",
   "metadata": {},
   "outputs": [],
   "source": [
    "params1 = params_lst[0]\n",
    "print(params1)"
   ]
  },
  {
   "cell_type": "code",
   "execution_count": null,
   "id": "1c46e4df",
   "metadata": {},
   "outputs": [],
   "source": [
    "# generating each scenarion once\n",
    "# %%capture\n",
    "for params in params_lst:\n",
    "    generate_exp(params)"
   ]
  },
  {
   "cell_type": "code",
   "execution_count": null,
   "id": "a561a93f",
   "metadata": {},
   "outputs": [],
   "source": [
    "run_exp(params_lst[0], visualise=True)"
   ]
  },
  {
   "cell_type": "code",
   "execution_count": null,
   "id": "d6f4d669",
   "metadata": {},
   "outputs": [],
   "source": [
    "# running each scenario once\n",
    "%%capture\n",
    "nurse_results = []\n",
    "patient_results = []\n",
    "done = []\n",
    "for i, params in enumerate(params_lst):  \n",
    "    run_exp(params)\n",
    "    done.append(i)\n",
    "    exp_results_nurse = process_nurse_data(params)\n",
    "    nurse_results.append(exp_results_nurse)\n",
    "    exp_results_patient = process_patient_data(params)\n",
    "    patient_results.append(exp_results_patient)"
   ]
  },
  {
   "cell_type": "code",
   "execution_count": null,
   "id": "f279b427",
   "metadata": {},
   "outputs": [],
   "source": [
    "%%capture\n",
    "# generating and running each scenario n times\n",
    "nurse_results = []\n",
    "patient_results = []\n",
    "done = []\n",
    "for i, params in enumerate(params_lst):\n",
    "    #data generator for that particular scenario:\n",
    "    event_gen = DataGenerator(rnd=42, layout_file=exp_layout, people_file=params[\"people_path\"], out_file=params[\"event_path\"], \n",
    "                request_assigner=params[\"request_assigner\"], include_plans=params[\"include_plans\"], \n",
    "                min_requests=1, max_requests=5, max_req_len=120) \n",
    "    print(event_gen)\n",
    "    nurse_results_scenario = []\n",
    "    patient_results_scenario = []\n",
    "    for _ in range(2):\n",
    "        event_gen.create_events() \n",
    "        run_exp(params)\n",
    "        done.append(i)\n",
    "        exp_results_nurse = process_nurse_data(params)\n",
    "        nurse_results_scenario.append(exp_results_nurse)\n",
    "        exp_results_patient = process_patient_data(params)\n",
    "        patient_results_scenario.append(exp_results_patient)\n",
    "    nurse_results.append(nurse_results_scenario)\n",
    "    patient_results.append(patient_results_scenario)"
   ]
  },
  {
   "cell_type": "code",
   "execution_count": null,
   "id": "adf00021",
   "metadata": {},
   "outputs": [],
   "source": [
    "generators = []\n",
    "for params in params_lst:\n",
    "    #data generator for that particular scenario:\n",
    "    event_gen = DataGenerator(rnd=42, layout_file=exp_layout, people_file=params[\"people_path\"], out_file=params[\"event_path\"], \n",
    "                request_assigner=params[\"request_assigner\"], include_plans=params[\"include_plans\"], \n",
    "                min_requests=1, max_requests=5, max_req_len=120)\n",
    "    generators.append(event_gen) "
   ]
  },
  {
   "cell_type": "code",
   "execution_count": null,
   "id": "5637e9c9",
   "metadata": {},
   "outputs": [],
   "source": [
    "print(generators)"
   ]
  },
  {
   "cell_type": "code",
   "execution_count": null,
   "id": "88d142fb",
   "metadata": {},
   "outputs": [],
   "source": [
    "nurse_results2 = [[] for _ in range(8)]\n",
    "patient_results2 = [[] for _ in range(8)]"
   ]
  },
  {
   "cell_type": "code",
   "execution_count": null,
   "id": "a200d948",
   "metadata": {},
   "outputs": [],
   "source": [
    "%%capture\n",
    "for i, params in enumerate(params_lst):\n",
    "    #data generator for that particular scenario:\n",
    "    event_gen = generators[i]\n",
    "    print(event_gen)\n",
    "    nurse_results_scenario = []\n",
    "    patient_results_scenario = []\n",
    "    for _ in range(10):\n",
    "        event_gen.create_events() \n",
    "        run_exp(params)\n",
    "        exp_results_nurse = process_nurse_data(params)\n",
    "        nurse_results_scenario.append(exp_results_nurse)\n",
    "        exp_results_patient = process_patient_data(params)\n",
    "        patient_results_scenario.append(exp_results_patient)\n",
    "    nurse_results2[i] += nurse_results_scenario\n",
    "    patient_results2[i] += patient_results_scenario"
   ]
  },
  {
   "cell_type": "code",
   "execution_count": null,
   "id": "dfe2bb21",
   "metadata": {},
   "outputs": [],
   "source": [
    "nurse_results2 == nurse_results"
   ]
  },
  {
   "cell_type": "code",
   "execution_count": null,
   "id": "64249361",
   "metadata": {},
   "outputs": [],
   "source": [
    "nurse_result_file = project_root + \"/experimets/results/nurse_results.pkl\"\n",
    "patient_result_file = project_root + \"/experimets/results/patient_results.pkl\"\n",
    "# print(nurse_result_file)\n",
    "# open(\"/home/julia/school/bakalarka/hospital_sim/experimets/results/nurse_results.pkl\")\n",
    "# with open(nurse_result_file, 'wb') as f:\n",
    "#     pickle.dump(nurse_results, f)\n",
    "\n",
    "# with open(patient_result_file, 'wb') as f:\n",
    "#     pickle.dump(patient_results, f)"
   ]
  },
  {
   "cell_type": "code",
   "execution_count": null,
   "id": "4e2d68dd",
   "metadata": {},
   "outputs": [],
   "source": [
    "with open(nurse_result_file, 'rb') as f:  \n",
    "    loaded_nurse_results = pickle.load(f)\n",
    "nurse_results == loaded_nurse_results"
   ]
  },
  {
   "cell_type": "code",
   "execution_count": null,
   "id": "6706990f",
   "metadata": {},
   "outputs": [],
   "source": [
    "print(loaded_nurse_results)"
   ]
  },
  {
   "cell_type": "markdown",
   "id": "89ee1c53",
   "metadata": {},
   "source": [
    "## Test prints"
   ]
  },
  {
   "cell_type": "code",
   "execution_count": null,
   "id": "2d27bdf8",
   "metadata": {},
   "outputs": [],
   "source": [
    "run_exp(params_lst[0])"
   ]
  },
  {
   "cell_type": "code",
   "execution_count": null,
   "id": "d47cc018",
   "metadata": {},
   "outputs": [],
   "source": [
    "res = process_patient_data(params_lst[0])\n",
    "for i, patient in enumerate(res):\n",
    "    print(i)\n",
    "    for lvl in patient:\n",
    "        print(lvl)"
   ]
  },
  {
   "cell_type": "code",
   "execution_count": null,
   "id": "e0abd283",
   "metadata": {},
   "outputs": [],
   "source": [
    "for res in nurse_results:\n",
    "    print(res)"
   ]
  },
  {
   "cell_type": "code",
   "execution_count": null,
   "id": "f98fb31b",
   "metadata": {},
   "outputs": [],
   "source": [
    "def print_patient_results(results):\n",
    "    for i, exp in enumerate(results):\n",
    "        print(\"\\n---------------- EXPERIMENT \", i, \"---------------------------\")\n",
    "        for l, run in enumerate(exp):\n",
    "            print(\"RUN\", l)\n",
    "            for j, patient in enumerate(run):\n",
    "                print(\"\\tpatient\", j)\n",
    "                for k, lvl in enumerate(patient):\n",
    "                    print(\"\\t\\tlevel\", k, lvl)"
   ]
  },
  {
   "cell_type": "code",
   "execution_count": null,
   "id": "1fb50f3b",
   "metadata": {},
   "outputs": [],
   "source": [
    "def print_nurse_results(results):\n",
    "    for i, exp in enumerate(results):\n",
    "        print(\"\\n---------------- EXPERIMENT \", i, \"---------------------------\")\n",
    "        for l, run in enumerate(exp):\n",
    "            print(\"RUN\", l)\n",
    "            for j, nurse in enumerate(run):\n",
    "                print(\"\\tnurse\", j)\n",
    "                for k, stat in enumerate(nurse):\n",
    "                    print(\"\\t\\t\", stat, nurse[stat])"
   ]
  },
  {
   "cell_type": "code",
   "execution_count": null,
   "id": "dbdaec3c",
   "metadata": {},
   "outputs": [],
   "source": [
    "print_nurse_results(nurse_results)"
   ]
  },
  {
   "cell_type": "code",
   "execution_count": null,
   "id": "88cea651",
   "metadata": {},
   "outputs": [],
   "source": [
    "print_nurse_results(nurse_results2)"
   ]
  },
  {
   "cell_type": "code",
   "execution_count": null,
   "id": "d5db0212",
   "metadata": {},
   "outputs": [],
   "source": [
    "print_patient_results(patient_results)"
   ]
  },
  {
   "cell_type": "code",
   "execution_count": null,
   "id": "56b890e4",
   "metadata": {},
   "outputs": [],
   "source": [
    "print_patient_results(patient_results2)\n"
   ]
  },
  {
   "cell_type": "markdown",
   "id": "a307b541",
   "metadata": {},
   "source": [
    "# Plot data"
   ]
  },
  {
   "cell_type": "code",
   "execution_count": null,
   "id": "e7ec4792",
   "metadata": {},
   "outputs": [],
   "source": [
    "def plot_patient_stat_box(stat_name, level, avg_patient = False):\n",
    "# by default, prints a cumulative value for all patients. If avg_patient is true, averages value out for one patient\n",
    "    box_plot_list = []\n",
    "    if level == 0:\n",
    "        level_title = \"all\"\n",
    "    else:\n",
    "        level_title = level\n",
    "    values = [0 for _ in range(len(patient_results))]\n",
    "\n",
    "    for i, exp in enumerate(patient_results):\n",
    "        exp_list = []\n",
    "        for run in exp:\n",
    "            run_vals = 0\n",
    "            for patient in run:\n",
    "                run_vals += patient[level][stat_name]\n",
    "                # values.append(patient[level][stat_name])\n",
    "                values[i] += patient[level][stat_name]\n",
    "            exp_list.append(run_vals)\n",
    "        box_plot_list.append(exp_list)\n",
    "\n",
    "    runs = len(patient_results[0])\n",
    "    values = list(map(lambda x: x / runs, values)) \n",
    "    if avg_patient:\n",
    "        values = list(map(lambda x: x / 8, values)) \n",
    "\n",
    "    print(values)\n",
    "    print(len(values))\n",
    "\n",
    "    labels = [\"Exp \" + str(x) for x in range(8)]\n",
    "    # colors = ['red' if i % 2 == 0 else 'blue' for i in range(len(values))]\n",
    "    x = np.arange(len(values))\n",
    "    # plt.bar(x, values, color=\"blue\")\n",
    "    plt.boxplot(box_plot_list)\n",
    "    plt.xticks(ticks=x, labels=labels)\n",
    "\n",
    "    plt.xlabel(\"Experiment\")\n",
    "    plt.ylabel(\"\")\n",
    "    plt.title(stat_name + \" level \" + str(level_title))\n",
    "\n",
    "    # Show the chart\n",
    "    plt.show()\n",
    "\n",
    "for i in range(4):\n",
    "    plot_patient_stat_box(\"total_time_waiting\", i, avg_patient=True)\n",
    "\n",
    "for i in range(4):\n",
    "    plot_patient_stat_box(\"avg_time_waiting\", i, avg_patient=True)"
   ]
  },
  {
   "cell_type": "code",
   "execution_count": null,
   "id": "57bd48c0",
   "metadata": {},
   "outputs": [],
   "source": [
    "def plot_patient_stat(stat_name, level, avg_patient = False):\n",
    "# by default, prints a cumulative value for all patients. If avg_patient is true, averages value out for one patient\n",
    "    if level == 0:\n",
    "        level_title = \"all\"\n",
    "    else:\n",
    "        level_title = level\n",
    "    values = [0 for _ in range(len(patient_results))]\n",
    "\n",
    "    for i, exp in enumerate(patient_results):\n",
    "        for run in exp:\n",
    "            for patient in run:\n",
    "                # values.append(patient[level][stat_name])\n",
    "                values[i] += patient[level][stat_name]\n",
    "\n",
    "    runs = len(patient_results[0])\n",
    "    values = list(map(lambda x: x / runs, values)) \n",
    "    if avg_patient:\n",
    "        values = list(map(lambda x: x / 8, values)) \n",
    "\n",
    "    print(values)\n",
    "    print(len(values))\n",
    "\n",
    "    labels = [\"Exp \" + str(x) for x in range(8)]\n",
    "    # colors = ['red' if i % 2 == 0 else 'blue' for i in range(len(values))]\n",
    "    x = np.arange(len(values))\n",
    "    plt.bar(x, values, color=\"blue\")\n",
    "    plt.xticks(ticks=x, labels=labels)\n",
    "\n",
    "    plt.xlabel(\"Experiment\")\n",
    "    plt.ylabel(\"\")\n",
    "    plt.title(stat_name + \" level \" + str(level_title))\n",
    "\n",
    "    # Show the chart\n",
    "    plt.show()\n",
    "\n",
    "for i in range(4):\n",
    "    plot_patient_stat(\"total_time_waiting\", i, avg_patient=True)\n",
    "\n",
    "for i in range(4):\n",
    "    plot_patient_stat(\"avg_time_waiting\", i, avg_patient=True)"
   ]
  },
  {
   "cell_type": "code",
   "execution_count": null,
   "id": "027221cf",
   "metadata": {},
   "outputs": [],
   "source": [
    "def plot_patient_avg(stat_name, level, results=patient_results):\n",
    "# by default, prints a cumulative value for all patients. If avg_patient is true, averages value out for one patient\n",
    "    if level == 0:\n",
    "        level_title = \"all\"\n",
    "    else:\n",
    "        level_title = level\n",
    "    values = [[] for _ in range(len(results))] #empty list for each experiment, eventually this will be a list of lists of run results for each exp\n",
    "\n",
    "    for i, exp in enumerate(results): #iterating over experiments\n",
    "        for run in exp: #iterating over runs of that experiment\n",
    "            run_avg = 0\n",
    "            for patient in run:\n",
    "                run_avg += (patient[level][stat_name])\n",
    "                # values[i].append(patient[level][stat_name])\n",
    "                # values[i] += patient[level][stat_name]\n",
    "            run_avg /= 8 #average of that run per patient\n",
    "            values[i].append(run_avg)\n",
    "\n",
    "    # print(values)\n",
    "\n",
    "    plt_values = [[] for _ in range(8)]\n",
    "    for exp_num in range(8):\n",
    "        total = 0\n",
    "        for i, run in enumerate(values[exp_num]):\n",
    "            total += run\n",
    "            avg = total / (i + 1)\n",
    "            plt_values[exp_num].append(avg)\n",
    "\n",
    "    # print(plt_values)\n",
    "    # print(len(plt_values))\n",
    "    \n",
    "    # transposed_vals = np.array(plt_values).T.tolist() #apparently plot needs it the other way round\n",
    "    runs = len(results[0])\n",
    "    ticks = [x * 10 + 9 for x in range(runs // 10)]\n",
    "    labels = [(x + 1) * 10 for x in range(runs // 10)]\n",
    "    print(ticks)\n",
    "    print(labels)\n",
    "    plt.xticks(ticks=ticks, labels=labels)\n",
    "    # plt.grid(True)\n",
    "\n",
    "    for row in plt_values:\n",
    "        # plt.plot(row, marker='o')\n",
    "        plt.plot(row)\n",
    "    # plt.plot(transposed_vals, marker='o')\n",
    "\n",
    "    plt.title(level_title)\n",
    "    plt.grid(True)\n",
    "    plt.show()\n",
    "\n",
    "# plot_patient_avg(\"total_time_waiting\", 0, results=patient_results2)\n",
    "for i in range(4):\n",
    "    plot_patient_avg(\"total_time_waiting\", i, results=patient_results2)\n",
    "\n",
    "# for i in range(4):\n",
    "#     plot_patient_avg(\"avg_time_waiting\", i, avg_patient=True)"
   ]
  },
  {
   "cell_type": "code",
   "execution_count": null,
   "id": "794a4bf2",
   "metadata": {},
   "outputs": [],
   "source": [
    "def plot_nurse_stat(stat_name):\n",
    "    values = [0 for _ in range(len(nurse_results) * 2 )] # amounts to be plotted in bar chart\n",
    "    runs = len(nurse_results[0])\n",
    "    for i, exp in enumerate(nurse_results):\n",
    "        for run in exp:\n",
    "            values[i * 2] += run[0][stat_name]\n",
    "            # values.append(run[0][stat_name])\n",
    "            if len(run) == 2: # there are two nurses, so update the second bar of that experiment\n",
    "                # values.append(run[1][stat_name])\n",
    "                values[i * 2 + 1] += run[1][stat_name]\n",
    "            # else:\n",
    "                # values.append(0)\n",
    "\n",
    "    # values has the sum of all results, average them\n",
    "    values = list(map(lambda x: x / runs, values)) \n",
    "\n",
    "    labels = [\"Exp \" + str(x + 1) for x in range(8)] # experiment scenario names\n",
    "    colors = ['red' if i % 2 == 0 else 'blue' for i in range(len(values))] #alternating colors for nurses\n",
    "    print(labels)\n",
    "    print(values)\n",
    "    x = np.arange(len(values))\n",
    "\n",
    "    # plot the actual bars\n",
    "    plt.bar(x, values, color=colors)\n",
    "\n",
    "    # write labels under each pair of values\n",
    "    plt.xticks(ticks=np.arange(0.5, len(values), 2), labels=labels)\n",
    "\n",
    "    # red_patch = plt.Line2D([0], [0], color='red', lw=4, label='nurse 1')\n",
    "    # blue_patch = plt.Line2D([0], [0], color='blue', lw=4, label='nurse 2')\n",
    "    # create legend\n",
    "    red_patch = mpatches.Circle((0, 0), radius=0.1, color='red', label='nurse 1')\n",
    "    blue_patch = mpatches.Circle((0, 0), radius=0.1, color='blue', label='nurse 2')\n",
    "    plt.legend(handles=[red_patch, blue_patch])\n",
    "\n",
    "    # titles\n",
    "    plt.xlabel(\"Experiment\")\n",
    "    plt.ylabel(\"\")\n",
    "    plt.title(stat_name)\n",
    "\n",
    "    plt.show()\n",
    "\n",
    "nurse_stats = nurse_results[0][0][0].keys()\n",
    "for stat in nurse_stats:\n",
    "    plot_nurse_stat(stat)"
   ]
  },
  {
   "cell_type": "code",
   "execution_count": null,
   "id": "78ecab88",
   "metadata": {},
   "outputs": [],
   "source": [
    "def plot_nurse_stat_avg(stat_name):\n",
    "    values = [0 for _ in range(len(nurse_results) * 2 )] # amounts to be plotted in bar chart\n",
    "    runs = len(nurse_results[0])\n",
    "    for i, exp in enumerate(nurse_results):\n",
    "        for run in exp:\n",
    "            values[i * 2] += run[0][stat_name]\n",
    "            # values.append(run[0][stat_name])\n",
    "            if len(run) == 2: # there are two nurses, so update the second bar of that experiment\n",
    "                # values.append(run[1][stat_name])\n",
    "                values[i * 2 + 1] += run[1][stat_name]\n",
    "            # else:\n",
    "                # values.append(0)\n",
    "\n",
    "    # values has the sum of all results, average them\n",
    "    values = list(map(lambda x: x / runs, values)) \n",
    "\n",
    "    labels = [\"Exp \" + str(x + 1) for x in range(8)] # experiment scenario names\n",
    "    colors = ['red' if i % 2 == 0 else 'blue' for i in range(len(values))] #alternating colors for nurses\n",
    "    print(labels)\n",
    "    print(values)\n",
    "    x = np.arange(len(values))\n",
    "\n",
    "    # plot the actual bars\n",
    "    plt.bar(x, values, color=colors)\n",
    "\n",
    "    # write labels under each pair of values\n",
    "    plt.xticks(ticks=np.arange(0.5, len(values), 2), labels=labels)\n",
    "\n",
    "    # red_patch = plt.Line2D([0], [0], color='red', lw=4, label='nurse 1')\n",
    "    # blue_patch = plt.Line2D([0], [0], color='blue', lw=4, label='nurse 2')\n",
    "    # create legend\n",
    "    red_patch = mpatches.Circle((0, 0), radius=0.1, color='red', label='nurse 1')\n",
    "    blue_patch = mpatches.Circle((0, 0), radius=0.1, color='blue', label='nurse 2')\n",
    "    plt.legend(handles=[red_patch, blue_patch])\n",
    "\n",
    "    # titles\n",
    "    plt.xlabel(\"Experiment\")\n",
    "    plt.ylabel(\"\")\n",
    "    plt.title(stat_name)\n",
    "\n",
    "    plt.show()\n",
    "\n",
    "nurse_stats = nurse_results[0][0][0].keys()\n",
    "for stat in nurse_stats:\n",
    "    plot_nurse_stat(stat)"
   ]
  },
  {
   "cell_type": "markdown",
   "id": "1c4f217f",
   "metadata": {},
   "source": [
    "## Test prints"
   ]
  },
  {
   "cell_type": "code",
   "execution_count": null,
   "id": "a67fd69a",
   "metadata": {},
   "outputs": [],
   "source": [
    "df = pd.read_csv(project_root + \"/output/testNurseLog.csv\")\n",
    "df"
   ]
  },
  {
   "cell_type": "code",
   "execution_count": null,
   "id": "61c98782",
   "metadata": {},
   "outputs": [],
   "source": [
    "time_rows = df[(df['nurse'] == 0) & (df['patient'] == 0) & (df['action'] == \"time at patient\")].event.tolist()\n",
    "time_rows\n"
   ]
  },
  {
   "cell_type": "code",
   "execution_count": null,
   "id": "e99d8faf",
   "metadata": {},
   "outputs": [],
   "source": [
    "df115 = df[df['event'] == 82].reset_index(drop=True)\n",
    "df115"
   ]
  },
  {
   "cell_type": "code",
   "execution_count": null,
   "id": "f25367e3",
   "metadata": {},
   "outputs": [],
   "source": [
    "# Find the index of the row where action is 'time at patient'\n",
    "time_at_patient_idx = df115[df115['action'] == 'time at patient'].index[0]\n",
    "print(time_at_patient_idx)\n",
    "\n",
    "total_time = 0\n",
    "int_end_time = df115.loc[time_at_patient_idx].time #end of current calculated interval\n",
    "# Iterate backward from this index to find the first occurrence of 'move to'\n",
    "for idx in range(time_at_patient_idx, -1, -1):\n",
    "    line = df115.loc[idx]\n",
    "    action = line[\"action\"]\n",
    "    if action == 'move to' or idx == 0:\n",
    "        total_time += int_end_time - line[\"time\"]\n",
    "        break\n",
    "    if action == 'assign event':\n",
    "        total_time += int_end_time - line[\"time\"]\n",
    "    elif action == 'unassign event':\n",
    "        int_end_time = line[\"time\"]\n",
    "    print(idx, action, total_time)\n",
    "\n",
    "print(total_time)"
   ]
  },
  {
   "cell_type": "code",
   "execution_count": null,
   "id": "7c3be59f",
   "metadata": {},
   "outputs": [],
   "source": [
    "df115.iloc[-1]"
   ]
  },
  {
   "cell_type": "code",
   "execution_count": null,
   "id": "a1db9692",
   "metadata": {},
   "outputs": [],
   "source": [
    "req_levels = [2, 3]\n",
    "level_probabilities = [0.75, 0.25]\n",
    "level = np.random.choice(req_levels, p=level_probabilities)\n",
    "req = {}\n",
    "req[\"level\"] = level\n",
    "\n",
    "print(req[\"level\"])"
   ]
  },
  {
   "cell_type": "code",
   "execution_count": null,
   "id": "42eb4dcf",
   "metadata": {},
   "outputs": [],
   "source": [
    "val = np.int64(2)\n",
    "print(type(int(val)))"
   ]
  }
 ],
 "metadata": {
  "kernelspec": {
   "display_name": "simVenv",
   "language": "python",
   "name": "python3"
  },
  "language_info": {
   "codemirror_mode": {
    "name": "ipython",
    "version": 3
   },
   "file_extension": ".py",
   "mimetype": "text/x-python",
   "name": "python",
   "nbconvert_exporter": "python",
   "pygments_lexer": "ipython3",
   "version": "3.12.3"
  }
 },
 "nbformat": 4,
 "nbformat_minor": 5
}
